{
 "cells": [
  {
   "cell_type": "markdown",
   "id": "ae908cb2",
   "metadata": {},
   "source": [
    "# 📊 Final Project - Customer Churn Prediction for Sendo Farm\n",
    "\n",
    "## Problem Definition\n",
    "\n",
    "Sendo Farm is an online grocery e-commerce platform that delivers essential goods, similar to a supermarket, directly to consumers for their daily meals.  \n",
    "Because the products are groceries—especially fresh items such as meat, fish, fruits, and vegetables—customer satisfaction is highly sensitive to quality.  \n",
    "\n",
    "Some customers who are dissatisfied with product quality or after-sales service choose to file complaints, request refunds, or report missing items. However, many others leave silently without expressing dissatisfaction and never purchase from Sendo Farm again.  \n",
    "\n",
    "Customer churn is costly, especially in the grocery business where customers make frequent and recurring purchases.  \n",
    "Thus, the goal of this project is to build a **supervised machine learning model** that predicts which customers are at risk of churning. This will allow Sendo Farm to proactively take preventive actions, such as personalized campaigns, compensation, or loyalty offers, to improve customer experience and retention.  \n",
    "\n",
    "### Dataset Description\n",
    "The available data includes:\n",
    "- **Transaction history** (order frequency, order value, recency of last purchase).\n",
    "- **Complaint & refund history** (number of complaints, refund requests).\n",
    "- **Missing items history** (number of orders with missing products).\n",
    "- **Purchase ratio of dry vs fresh goods** (stability and sensitivity to product type).\n",
    "- **Order rating** (order satisfaction)      \n",
    "\n",
    "These features will be engineered into customer-level data suitable for supervised ML classification (churn vs non-churn).\n"
   ]
  },
  {
   "cell_type": "code",
   "execution_count": null,
   "id": "bba669a1",
   "metadata": {},
   "outputs": [],
   "source": [
    "# 📦 Import libraries\n",
    "import pandas as pd\n",
    "import numpy as np\n",
    "import matplotlib.pyplot as plt\n",
    "import seaborn as sns\n",
    "\n",
    "from sklearn.model_selection import train_test_split, GridSearchCV\n",
    "from sklearn.preprocessing import StandardScaler, LabelEncoder\n",
    "from sklearn.metrics import classification_report, confusion_matrix, roc_auc_score, roc_curve"
   ]
  },
  {
   "cell_type": "markdown",
   "id": "74edf916",
   "metadata": {},
   "source": [
    "## 1. Load Dataset"
   ]
  },
  {
   "cell_type": "code",
   "execution_count": null,
   "id": "24a8a18e",
   "metadata": {},
   "outputs": [],
   "source": [
    "# Load dataset (replace with actual path)\n",
    "# Orders (lịch sử giao dịch mua hàng)\n",
    "# Customers (thông tin khách hàng)\n",
    "# Products (SKU, danh mục, giá)\n",
    "# Incidents (sự kiện phàn nàn, yêu cầu hoàn tiền, thiếu hàng)\n",
    "# Order_rating (đánh giá đơn hàng)\n",
    "data = pd.read_csv(\"data/customer_churn.csv\")\n",
    "\n",
    "# Preview dataset\n",
    "data.head()"
   ]
  },
  {
   "cell_type": "markdown",
   "id": "826f78dc",
   "metadata": {},
   "source": [
    "## 2. Exploratory Data Analysis (EDA)\n",
    "- Check missing values  \n",
    "- Target distribution (churn vs not churn)  \n",
    "- Descriptive statistics  \n",
    "- Correlation matrix  "
   ]
  },
  {
   "cell_type": "code",
   "execution_count": null,
   "id": "4df50e99",
   "metadata": {},
   "outputs": [],
   "source": [
    "# Basic checks\n",
    "print(df.shape)\n",
    "print(df.info())\n",
    "print(df.describe())\n",
    "\n",
    "# Missing values\n",
    "df.isnull().sum()\n",
    "\n",
    "# Distribution plots\n",
    "num_cols = [\"order_count\", \"avg_order_value\", \"complaint_count\", \"refund_count\", \"missing_items_ratio\"]\n",
    "df[num_cols].hist(bins=20, figsize=(12,8))\n",
    "plt.show()\n",
    "\n",
    "# Churn rate\n",
    "df[\"churn\"].value_counts(normalize=True).plot(kind=\"bar\", title=\"Churn Distribution\")\n",
    "plt.show()\n",
    "\n",
    "# Correlation heatmap\n",
    "plt.figure(figsize=(10,6))\n",
    "sns.heatmap(df[num_cols + [\"churn\"]].corr(), annot=True, cmap=\"coolwarm\")\n",
    "plt.show()\n",
    "\n",
    "# Compare churn vs non-churn customers\n",
    "sns.boxplot(x=\"churn\", y=\"order_count\", data=df)\n",
    "plt.show()\n"
   ]
  },
  {
   "cell_type": "markdown",
   "id": "8bc77dcf",
   "metadata": {},
   "source": [
    "## 3. Feature Engineering & Preprocessing\n",
    "- Encode categorical variables  \n",
    "- Scale numerical features  \n",
    "- Train/test split  "
   ]
  },
  {
   "cell_type": "code",
   "execution_count": null,
   "id": "cff1c032",
   "metadata": {},
   "outputs": [],
   "source": [
    "## === Feature Engineering for Frequency Change ===\n",
    "# Important: sudden drop in order frequency often signals churn risk\n",
    "\n",
    "# Average frequency in month -2 and -3\n",
    "# (Assume df has a 'order_date' column for transaction history)\n",
    "df[\"order_month\"] = pd.to_datetime(df[\"order_date\"]).dt.to_period(\"M\")\n",
    "\n",
    "# Count orders per customer per month\n",
    "monthly_orders = df.groupby([\"customer_id\", \"order_month\"]).size().reset_index(name=\"order_count_month\")\n",
    "\n",
    "# Pivot table for last 3 months\n",
    "# (This assumes you have filtered dataset up to current month)\n",
    "monthly_pivot = monthly_orders.pivot(index=\"customer_id\", columns=\"order_month\", values=\"order_count_month\").fillna(0)\n",
    "\n",
    "# Example: if we label last 3 months as -1, -2, -3\n",
    "monthly_pivot[\"avg_freq_month_minus2_3\"] = monthly_pivot.iloc[:, -3:-1].mean(axis=1)  # baseline frequency\n",
    "monthly_pivot[\"avg_freq_last30\"] = monthly_pivot.iloc[:, -1]  # most recent month\n",
    "\n",
    "# Merge back into main dataframe\n",
    "df = df.merge(monthly_pivot[[\"avg_freq_month_minus2_3\", \"avg_freq_last30\"]], on=\"customer_id\", how=\"left\")\n",
    "\n",
    "# Optional: create delta feature\n",
    "df[\"freq_change\"] = df[\"avg_freq_last30\"] - df[\"avg_freq_month_minus2_3\"]\n",
    "\n",
    "\n",
    "# Example engineered features\n",
    "df[\"recency_days\"] = (pd.to_datetime(\"today\") - df[\"last_order_date\"]).dt.days\n",
    "df[\"complaint_ratio\"] = df[\"complaint_count\"] / (df[\"order_count\"] + 1)\n",
    "df[\"refund_ratio\"] = df[\"refund_count\"] / (df[\"order_count\"] + 1)\n",
    "df[\"missing_ratio\"] = df[\"missing_items\"] / (df[\"order_count\"] + 1)\n",
    "df[\"fresh_ratio\"] = df[\"fresh_items\"] / (df[\"total_items\"] + 1)\n",
    "\n",
    "# Select features\n",
    "feature_cols = [\"recency_days\", \"order_count\", \"avg_order_value\",\n",
    "                \"complaint_ratio\", \"refund_ratio\", \"missing_ratio\", \"fresh_ratio\"]\n",
    "\n",
    "X = df[feature_cols]\n",
    "y = df[\"churn\"]\n",
    "\n",
    "# Train/test split\n",
    "X_train, X_test, y_train, y_test = train_test_split(X, y, test_size=0.2, stratify=y, random_state=42)\n",
    "\n"
   ]
  },
  {
   "cell_type": "markdown",
   "id": "9f279e1a",
   "metadata": {},
   "source": [
    "## 4. Model Building & Training\n",
    "- Logistic Regression (baseline)  \n",
    "- Random Forest, XGBoost  \n",
    "- Hyperparameter tuning  "
   ]
  },
  {
   "cell_type": "code",
   "execution_count": null,
   "id": "0145554f",
   "metadata": {},
   "outputs": [],
   "source": [
    "from sklearn.linear_model import LogisticRegression\n",
    "from sklearn.ensemble import RandomForestClassifier\n",
    "from xgboost import XGBClassifier\n",
    "\n",
    "# Logistic Regression\n",
    "lr = LogisticRegression(max_iter=1000)\n",
    "lr.fit(X_train, y_train)\n",
    "y_pred_lr = lr.predict(X_test)\n",
    "\n",
    "print(\"Logistic Regression\")\n",
    "print(classification_report(y_test, y_pred_lr))"
   ]
  },
  {
   "cell_type": "code",
   "execution_count": null,
   "id": "603cc577",
   "metadata": {},
   "outputs": [],
   "source": [
    "# Random Forest\n",
    "rf = RandomForestClassifier(n_estimators=100, random_state=42)\n",
    "rf.fit(X_train, y_train)\n",
    "y_pred_rf = rf.predict(X_test)\n",
    "\n",
    "print(\"Random Forest\")\n",
    "print(classification_report(y_test, y_pred_rf))"
   ]
  },
  {
   "cell_type": "code",
   "execution_count": null,
   "id": "f6c7fdc2",
   "metadata": {},
   "outputs": [],
   "source": [
    "# XGBoost\n",
    "xgb = XGBClassifier(use_label_encoder=False, eval_metric='logloss')\n",
    "xgb.fit(X_train, y_train)\n",
    "y_pred_xgb = xgb.predict(X_test)\n",
    "\n",
    "print(\"XGBoost\")\n",
    "print(classification_report(y_test, y_pred_xgb))"
   ]
  },
  {
   "cell_type": "markdown",
   "id": "4481bd4a",
   "metadata": {},
   "source": [
    "## 5. Results & Evaluation\n",
    "- Compare Accuracy, F1-score, ROC-AUC  \n",
    "- Confusion matrix  \n",
    "- ROC curve  "
   ]
  },
  {
   "cell_type": "code",
   "execution_count": null,
   "id": "86dd5333",
   "metadata": {},
   "outputs": [],
   "source": [
    "models = {\"LR\": lr, \"RF\": rf, \"XGB\": xgb}\n",
    "\n",
    "for name, model in models.items():\n",
    "    y_pred = model.predict(X_test)\n",
    "    print(f\"\\n{name} - Classification Report\")\n",
    "    print(classification_report(y_test, y_pred))\n",
    "    \n",
    "    # ROC\n",
    "    y_proba = model.predict_proba(X_test)[:,1]\n",
    "    auc = roc_auc_score(y_test, y_proba)\n",
    "    print(f\"{name} - ROC AUC: {auc:.4f}\")"
   ]
  },
  {
   "cell_type": "code",
   "execution_count": null,
   "id": "5622a5b1",
   "metadata": {},
   "outputs": [],
   "source": [
    "# Confusion matrix for best model (e.g. XGB)\n",
    "cm = confusion_matrix(y_test, y_pred_xgb)\n",
    "sns.heatmap(cm, annot=True, fmt=\"d\", cmap=\"Blues\")\n",
    "plt.title(\"Confusion Matrix - XGBoost\")\n",
    "plt.show()"
   ]
  },
  {
   "cell_type": "markdown",
   "id": "202fe0b9",
   "metadata": {},
   "source": [
    "## 6. Discussion & Conclusion\n",
    "- Best model: [fill in here]  \n",
    "- Key findings and interpretation  \n",
    "- Limitations of the current approach  \n",
    "- Future improvements (e.g., more features, deep learning, deployment)  "
   ]
  },
  {
   "cell_type": "markdown",
   "id": "e616663a",
   "metadata": {},
   "source": [
    "\n",
    "## 🔹 Data Sources\n",
    "\n",
    "Trong project này, chúng ta sẽ làm việc với nhiều dataset khác nhau:\n",
    "\n",
    "- **Orders**: lịch sử giao dịch mua hàng (`order_id, customer_id, product_id, order_date, quantity, price`)\n",
    "- **Customers**: thông tin khách hàng (`customer_id, gender, age, region, join_date`)\n",
    "- **Products**: thông tin sản phẩm (`product_id, category, subcategory, price, brand`)\n",
    "- **Incidents**: khiếu nại và hoàn tiền (`incident_id, order_id, type, date, resolved_flag`)\n",
    "- **Order_rating**: đánh giá đơn hàng (`order_id, rating, feedback_text, review_date`)\n",
    "\n",
    "Các bảng này sẽ được merge lại để xây dựng feature set cho mô hình dự đoán churn.\n"
   ]
  },
  {
   "cell_type": "code",
   "execution_count": null,
   "id": "92d3205a",
   "metadata": {},
   "outputs": [],
   "source": [
    "\n",
    "# 📦 Import libraries\n",
    "import pandas as pd\n",
    "import numpy as np\n",
    "import matplotlib.pyplot as plt\n",
    "import seaborn as sns\n",
    "\n",
    "from sklearn.model_selection import train_test_split, GridSearchCV\n",
    "from sklearn.preprocessing import StandardScaler, LabelEncoder\n",
    "from sklearn.metrics import classification_report, confusion_matrix, roc_auc_score, roc_curve\n",
    "\n",
    "# 🔹 Giả lập dataset (có thể thay bằng pd.read_csv khi có file thật)\n",
    "orders = pd.DataFrame({\n",
    "    \"order_id\": range(1, 11),\n",
    "    \"customer_id\": [1,1,2,3,3,3,4,5,5,6],\n",
    "    \"product_id\": [101,102,103,104,105,106,107,108,109,110],\n",
    "    \"order_date\": pd.date_range(\"2024-01-01\", periods=10, freq=\"15D\"),\n",
    "    \"quantity\": np.random.randint(1,5, size=10),\n",
    "    \"price\": np.random.randint(50,200, size=10)\n",
    "})\n",
    "\n",
    "customers = pd.DataFrame({\n",
    "    \"customer_id\": [1,2,3,4,5,6],\n",
    "    \"gender\": [\"M\",\"F\",\"F\",\"M\",\"F\",\"M\"],\n",
    "    \"age\": [25,30,40,35,28,45],\n",
    "    \"region\": [\"North\",\"South\",\"South\",\"East\",\"West\",\"East\"],\n",
    "    \"join_date\": pd.date_range(\"2023-01-01\", periods=6, freq=\"90D\")\n",
    "})\n",
    "\n",
    "products = pd.DataFrame({\n",
    "    \"product_id\": range(101,111),\n",
    "    \"category\": [\"Food\",\"Food\",\"Drink\",\"Drink\",\"Snack\",\"Snack\",\"Household\",\"Household\",\"Personal\",\"Personal\"],\n",
    "    \"price\": np.random.randint(10,100, size=10)\n",
    "})\n",
    "\n",
    "incidents = pd.DataFrame({\n",
    "    \"incident_id\": range(1,6),\n",
    "    \"order_id\": [2,4,6,8,9],\n",
    "    \"type\": [\"Refund\",\"Late Delivery\",\"Missing Item\",\"Refund\",\"Damaged\"],\n",
    "    \"date\": pd.date_range(\"2024-02-01\", periods=5, freq=\"30D\"),\n",
    "    \"resolved_flag\": [1,0,1,1,0]\n",
    "})\n",
    "\n",
    "order_rating = pd.DataFrame({\n",
    "    \"order_id\": [1,2,3,5,7,9],\n",
    "    \"rating\": [5,3,4,2,5,1],\n",
    "    \"feedback_text\": [\"Good\",\"Late delivery\",\"Nice\",\"Bad packaging\",\"Excellent\",\"Broken item\"],\n",
    "    \"review_date\": pd.date_range(\"2024-02-01\", periods=6, freq=\"20D\")\n",
    "})\n",
    "\n",
    "# Xem thử dữ liệu\n",
    "print(\"Orders sample:\")\n",
    "print(orders.head())\n",
    "print(\"\\nCustomers sample:\")\n",
    "print(customers.head())\n"
   ]
  },
  {
   "cell_type": "markdown",
   "id": "9a483174",
   "metadata": {},
   "source": [
    "\n",
    "## 🔹 Feature Engineering (Aggregation)\n",
    "\n",
    "Một số feature gợi ý từ các bảng:\n",
    "\n",
    "- Từ **Orders**: tổng số đơn hàng, tổng giá trị chi tiêu, tần suất mua trung bình 30 ngày gần nhất.  \n",
    "- Từ **Incidents**: số lần khiếu nại, tỷ lệ khiếu nại được xử lý.  \n",
    "- Từ **Order_rating**: rating trung bình, tỷ lệ rating < 3.  \n",
    "- Từ **Products**: đa dạng danh mục mua hàng (số category khác nhau).  \n",
    "\n",
    "Các feature này sẽ dùng để huấn luyện mô hình dự đoán churn (ví dụ định nghĩa **churn = 30 ngày không mua hàng**).\n"
   ]
  },
  {
   "cell_type": "code",
   "execution_count": null,
   "id": "c6961c86",
   "metadata": {},
   "outputs": [],
   "source": [
    "\n",
    "from sklearn.linear_model import LogisticRegression\n",
    "from sklearn.tree import DecisionTreeClassifier\n",
    "from sklearn.ensemble import RandomForestClassifier, GradientBoostingClassifier\n",
    "\n",
    "# Giả lập dataset huấn luyện (X, y)\n",
    "np.random.seed(42)\n",
    "X = pd.DataFrame({\n",
    "    \"total_orders\": np.random.randint(1,20, size=50),\n",
    "    \"avg_rating\": np.random.uniform(1,5, size=50),\n",
    "    \"num_incidents\": np.random.randint(0,5, size=50),\n",
    "    \"spend\": np.random.randint(100,2000, size=50)\n",
    "})\n",
    "y = np.random.randint(0,2, size=50)  # churn label\n",
    "\n",
    "X_train, X_test, y_train, y_test = train_test_split(X, y, test_size=0.3, random_state=42)\n",
    "\n",
    "models = {\n",
    "    \"Logistic Regression\": LogisticRegression(),\n",
    "    \"Decision Tree\": DecisionTreeClassifier(),\n",
    "    \"Random Forest\": RandomForestClassifier(),\n",
    "    \"Gradient Boosting\": GradientBoostingClassifier()\n",
    "}\n",
    "\n",
    "for name, model in models.items():\n",
    "    model.fit(X_train, y_train)\n",
    "    y_pred = model.predict(X_test)\n",
    "    auc = roc_auc_score(y_test, model.predict_proba(X_test)[:,1])\n",
    "    print(f\"{name}: AUC = {auc:.3f}\")\n"
   ]
  }
 ],
 "metadata": {
  "kernelspec": {
   "display_name": "Python 3",
   "language": "python",
   "name": "python3"
  },
  "language_info": {
   "name": "python",
   "version": "3.9"
  }
 },
 "nbformat": 4,
 "nbformat_minor": 5
}
